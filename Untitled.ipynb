{
 "cells": [
  {
   "cell_type": "code",
   "execution_count": 1,
   "id": "6d7a9a92-93a4-47f8-81de-43bd2626969e",
   "metadata": {
    "tags": []
   },
   "outputs": [
    {
     "name": "stdout",
     "output_type": "stream",
     "text": [
      "None\n"
     ]
    }
   ],
   "source": [
    "# imports\n",
    "import pandas as pd\n",
    "import requests\n",
    "import os # use this to access your environment variables\n",
    "FOURSQUARE_KEY = os.getenv('FOURSQUARE_KEY')\n",
    "%store -r bike_station_information_df\n",
    "data = bike_station_information_df\n",
    "\n",
    "print(FOURSQUARE_KEY)"
   ]
  },
  {
   "cell_type": "code",
   "execution_count": null,
   "id": "25b532a6-5379-4d8f-bef3-5c7b625b2d77",
   "metadata": {},
   "outputs": [],
   "source": []
  }
 ],
 "metadata": {
  "kernelspec": {
   "display_name": "lhl_env",
   "language": "python",
   "name": "lhl_env"
  },
  "language_info": {
   "codemirror_mode": {
    "name": "ipython",
    "version": 3
   },
   "file_extension": ".py",
   "mimetype": "text/x-python",
   "name": "python",
   "nbconvert_exporter": "python",
   "pygments_lexer": "ipython3",
   "version": "3.9.7"
  }
 },
 "nbformat": 4,
 "nbformat_minor": 5
}
