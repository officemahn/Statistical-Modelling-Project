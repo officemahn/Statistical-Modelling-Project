{
 "cells": [
  {
   "cell_type": "markdown",
   "metadata": {},
   "source": [
    "# CityBikes"
   ]
  },
  {
   "cell_type": "markdown",
   "metadata": {},
   "source": [
    "Send a request to CityBikes for the city of your choice. "
   ]
  },
  {
   "cell_type": "code",
   "execution_count": 3,
   "metadata": {},
   "outputs": [
    {
     "name": "stdout",
     "output_type": "stream",
     "text": [
      "Success\n"
     ]
    },
    {
     "data": {
      "text/plain": [
       "{'empty_slots': 11,\n",
       " 'extra': {'address': 'RUE DES LILAS ANGLE BOULEVARD DU PORT 95000 CERGY',\n",
       "  'banking': False,\n",
       "  'bonus': False,\n",
       "  'has_ebikes': False,\n",
       "  'last_update': '2023-12-21T05:50:09Z',\n",
       "  'slots': 16,\n",
       "  'status': 'OPEN',\n",
       "  'uid': 50019},\n",
       " 'free_bikes': 5,\n",
       " 'id': '4ef5c350be7138fbf992b50338a68607',\n",
       " 'latitude': 49.034625,\n",
       " 'longitude': 2.067596,\n",
       " 'name': '50019 - CER19 - RUE DES LILAS',\n",
       " 'timestamp': '2023-12-21T05:57:43.165000Z'}"
      ]
     },
     "execution_count": 3,
     "metadata": {},
     "output_type": "execute_result"
    }
   ],
   "source": [
    "import pandas as pd\n",
    "import requests # this will be used to call the APIs\n",
    "\n",
    "url = \"http://api.citybik.es/v2/networks/velo2\"\n",
    "response = requests.request(\"GET\", url)\n",
    "    \n",
    "if response.status_code == 200:\n",
    "  print(\"Success\")\n",
    "else:\n",
    "  print(\"None\")\n",
    "data=response.json()\n",
    "data['network']['stations'][0]"
   ]
  },
  {
   "cell_type": "markdown",
   "metadata": {},
   "source": [
    "Parse through the response to get the details you want for the bike stations in that city (latitude, longitude, number of bikes). "
   ]
  },
  {
   "cell_type": "code",
   "execution_count": 5,
   "metadata": {},
   "outputs": [],
   "source": [
    "def parse_response(response):\n",
    "  if 'network' in response:\n",
    "    network_info = response['network']\n",
    "    city = network_info['location']['city']\n",
    "    stations = network_info.get('stations', [])\n",
    "    \n",
    "    bike_station_information = []\n",
    "    \n",
    "    for station in stations:\n",
    "      station_info = {\n",
    "        'City': city,\n",
    "        'Latitude': station['latitude'],\n",
    "        'Longitude': station['longitude'],\n",
    "        'Number of Bikes': station['free_bikes']\n",
    "      }\n",
    "      bike_station_information.append(station_info)\n",
    "\n",
    "    return bike_station_information\n",
    "  else:\n",
    "    print(\"Invalid response format\")\n",
    "    return None"
   ]
  },
  {
   "cell_type": "markdown",
   "metadata": {},
   "source": [
    "Put your parsed results into a DataFrame."
   ]
  },
  {
   "cell_type": "code",
   "execution_count": 6,
   "metadata": {},
   "outputs": [
    {
     "name": "stdout",
     "output_type": "stream",
     "text": [
      "Stored 'bike_station_information_df' (DataFrame)\n"
     ]
    },
    {
     "data": {
      "text/html": [
       "<div>\n",
       "<style scoped>\n",
       "    .dataframe tbody tr th:only-of-type {\n",
       "        vertical-align: middle;\n",
       "    }\n",
       "\n",
       "    .dataframe tbody tr th {\n",
       "        vertical-align: top;\n",
       "    }\n",
       "\n",
       "    .dataframe thead th {\n",
       "        text-align: right;\n",
       "    }\n",
       "</style>\n",
       "<table border=\"1\" class=\"dataframe\">\n",
       "  <thead>\n",
       "    <tr style=\"text-align: right;\">\n",
       "      <th></th>\n",
       "      <th>City</th>\n",
       "      <th>Latitude</th>\n",
       "      <th>Longitude</th>\n",
       "      <th>Number of Bikes</th>\n",
       "    </tr>\n",
       "  </thead>\n",
       "  <tbody>\n",
       "    <tr>\n",
       "      <th>0</th>\n",
       "      <td>Cergy</td>\n",
       "      <td>49.034625</td>\n",
       "      <td>2.067596</td>\n",
       "      <td>5</td>\n",
       "    </tr>\n",
       "    <tr>\n",
       "      <th>1</th>\n",
       "      <td>Cergy</td>\n",
       "      <td>49.036320</td>\n",
       "      <td>2.079568</td>\n",
       "      <td>3</td>\n",
       "    </tr>\n",
       "    <tr>\n",
       "      <th>2</th>\n",
       "      <td>Cergy</td>\n",
       "      <td>49.017697</td>\n",
       "      <td>2.099417</td>\n",
       "      <td>5</td>\n",
       "    </tr>\n",
       "    <tr>\n",
       "      <th>3</th>\n",
       "      <td>Cergy</td>\n",
       "      <td>49.044092</td>\n",
       "      <td>2.036546</td>\n",
       "      <td>6</td>\n",
       "    </tr>\n",
       "    <tr>\n",
       "      <th>4</th>\n",
       "      <td>Cergy</td>\n",
       "      <td>49.030665</td>\n",
       "      <td>2.083067</td>\n",
       "      <td>9</td>\n",
       "    </tr>\n",
       "    <tr>\n",
       "      <th>5</th>\n",
       "      <td>Cergy</td>\n",
       "      <td>49.035511</td>\n",
       "      <td>2.061921</td>\n",
       "      <td>7</td>\n",
       "    </tr>\n",
       "    <tr>\n",
       "      <th>6</th>\n",
       "      <td>Cergy</td>\n",
       "      <td>49.052785</td>\n",
       "      <td>2.017956</td>\n",
       "      <td>5</td>\n",
       "    </tr>\n",
       "    <tr>\n",
       "      <th>7</th>\n",
       "      <td>Cergy</td>\n",
       "      <td>49.038058</td>\n",
       "      <td>2.070534</td>\n",
       "      <td>6</td>\n",
       "    </tr>\n",
       "    <tr>\n",
       "      <th>8</th>\n",
       "      <td>Cergy</td>\n",
       "      <td>49.044395</td>\n",
       "      <td>2.090632</td>\n",
       "      <td>9</td>\n",
       "    </tr>\n",
       "    <tr>\n",
       "      <th>9</th>\n",
       "      <td>Cergy</td>\n",
       "      <td>49.038874</td>\n",
       "      <td>2.076405</td>\n",
       "      <td>15</td>\n",
       "    </tr>\n",
       "  </tbody>\n",
       "</table>\n",
       "</div>"
      ],
      "text/plain": [
       "    City   Latitude  Longitude  Number of Bikes\n",
       "0  Cergy  49.034625   2.067596                5\n",
       "1  Cergy  49.036320   2.079568                3\n",
       "2  Cergy  49.017697   2.099417                5\n",
       "3  Cergy  49.044092   2.036546                6\n",
       "4  Cergy  49.030665   2.083067                9\n",
       "5  Cergy  49.035511   2.061921                7\n",
       "6  Cergy  49.052785   2.017956                5\n",
       "7  Cergy  49.038058   2.070534                6\n",
       "8  Cergy  49.044395   2.090632                9\n",
       "9  Cergy  49.038874   2.076405               15"
      ]
     },
     "execution_count": 6,
     "metadata": {},
     "output_type": "execute_result"
    }
   ],
   "source": [
    "bike_station_information = parse_response(data)\n",
    "bike_station_information_df = pd.DataFrame(bike_station_information)\n",
    "bike_station_information_df\n",
    "%store bike_station_information_df\n",
    "bike_station_information_df.head(10)"
   ]
  }
 ],
 "metadata": {
  "kernelspec": {
   "display_name": "lhl_env",
   "language": "python",
   "name": "lhl_env"
  },
  "language_info": {
   "codemirror_mode": {
    "name": "ipython",
    "version": 3
   },
   "file_extension": ".py",
   "mimetype": "text/x-python",
   "name": "python",
   "nbconvert_exporter": "python",
   "pygments_lexer": "ipython3",
   "version": "3.9.18"
  }
 },
 "nbformat": 4,
 "nbformat_minor": 4
}
